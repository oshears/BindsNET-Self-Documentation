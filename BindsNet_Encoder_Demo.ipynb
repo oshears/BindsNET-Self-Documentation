{
 "metadata": {
  "language_info": {
   "codemirror_mode": {
    "name": "ipython",
    "version": 3
   },
   "file_extension": ".py",
   "mimetype": "text/x-python",
   "name": "python",
   "nbconvert_exporter": "python",
   "pygments_lexer": "ipython3",
   "version": "3.7.7-final"
  },
  "orig_nbformat": 2,
  "kernelspec": {
   "name": "Python 3.7.7 64-bit ('bindsnet_venv': venv)",
   "display_name": "Python 3.7.7 64-bit ('bindsnet_venv': venv)",
   "metadata": {
    "interpreter": {
     "hash": "732d593328193ea3719429364ecff39f4b5603f6d34d59c9a449efbac573ef32"
    }
   }
  }
 },
 "nbformat": 4,
 "nbformat_minor": 2,
 "cells": [
  {
   "source": [
    "# BindsNet Encoders\n",
    "\n",
    "## 1. Table of Contents\n",
    "1. Table of Contents\n",
    "2. Overview\n",
    "2. Import Statements\n",
    "3. Encoders\n",
    "    1. Single Spike Encoders\n",
    "    2. Repeat Encoder\n",
    "    3. Poisson Encoders\n",
    "    4. Bernoulli Encoders\n",
    "    5. Rank Order Encoder\n",
    "\n",
    "## 2. Overview\n",
    "All of the encoders below transform an N dimensional input tensor into an N + 1 dimensional tensor, where the added dimension is time. The data fed into the encoders must all be floating point values. This is because some of the encoders perform divisions using the data that could approximate to fractional values."
   ],
   "cell_type": "markdown",
   "metadata": {}
  },
  {
   "source": [
    "## 2. Import Statements"
   ],
   "cell_type": "markdown",
   "metadata": {}
  },
  {
   "cell_type": "code",
   "execution_count": 1,
   "metadata": {},
   "outputs": [],
   "source": [
    "import os\n",
    "import torch\n",
    "import numpy as np\n",
    "import matplotlib.pyplot as plt\n",
    "\n",
    "from bindsnet.encoding import *"
   ]
  },
  {
   "source": [
    "## 3a. Single (Spike) Encoder\n",
    "### Summary\n",
    "The single (spike) encoder transforms the data into a tensor where the value at time 0 in the tensor for a given element in the input has a spike if the value is greater than the quantile cutoff. The closer to 1 the sparsity is, the more spikes will be permitted. A value of 0 means no spikes will be permitted.\n",
    "### Quantile Calculation\n",
    "For Numpy, the quantile is calculated as:\n",
    "```\n",
    "np.quantile(np.array([4, 3, 2, 1]),0) \n",
    "1\n",
    "np.quantile(np.array([4, 3, 2, 1]),0.25) \n",
    "1.75\n",
    "np.quantile(np.array([4, 3, 2, 1]),0.50) \n",
    "2.5\n",
    "np.quantile(np.array([4, 3, 2, 1]),0.75) \n",
    "3.25\n",
    "np.quantile(np.array([4, 3, 2, 1]),1) \n",
    "4\n",
    "```"
   ],
   "cell_type": "markdown",
   "metadata": {}
  },
  {
   "cell_type": "code",
   "execution_count": 2,
   "metadata": {},
   "outputs": [
    {
     "output_type": "stream",
     "name": "stdout",
     "text": [
      "Input Datum:\ntensor([[80., 70., 60.],\n        [50., 40., 30.],\n        [20., 10.,  0.]])\n\nEncoded Datum w/ Sparsity of 0.25:\ntensor([[[1, 1, 0],\n         [0, 0, 0],\n         [0, 0, 0]]], dtype=torch.uint8)\n\nEncoded Datum w/ Sparsity of 0.5:\ntensor([[[1, 1, 1],\n         [1, 0, 0],\n         [0, 0, 0]]], dtype=torch.uint8)\n\nEncoded Datum w/ Sparsity of 0.75:\ntensor([[[1, 1, 1],\n         [1, 1, 1],\n         [0, 0, 0]]], dtype=torch.uint8)\n\nEncoded Datum w/ Sparsity of 1:\ntensor([[[1, 1, 1],\n         [1, 1, 1],\n         [1, 1, 0]]], dtype=torch.uint8)\n\n"
     ]
    }
   ],
   "source": [
    "# time is the total sample duration in ms\n",
    "# set to 1 for this example because steps after the first will not generate spikes\n",
    "time = 1\n",
    "\n",
    "# dt is the step size within the sample duration in ms\n",
    "dt = 1.0\n",
    "\n",
    "# input data\n",
    "train_image = torch.FloatTensor([[80,70,60],[50,40,30],[20,10,0]])\n",
    "\n",
    "# print train data\n",
    "print(\"Input Datum:\")\n",
    "print(train_image)\n",
    "print()\n",
    "\n",
    "# sparsity of spikes (1 for all spikes, 0 for no spikes)\n",
    "\n",
    "# spikes over the 0.75 quantile will be permitted\n",
    "sparsity = 0.25\n",
    "encoder = SingleEncoder(time=time, dt=dt,sparsity=sparsity)\n",
    "encoded_image = encoder(train_image)\n",
    "print(\"Encoded Datum w/ Sparsity of 0.25:\")\n",
    "print(encoded_image)\n",
    "print()\n",
    "\n",
    "# spikes over the 0.5 quantile will be permitted\n",
    "sparsity = 0.5\n",
    "encoder = SingleEncoder(time=time, dt=dt,sparsity=sparsity)\n",
    "encoded_image = encoder(train_image)\n",
    "print(\"Encoded Datum w/ Sparsity of 0.5:\")\n",
    "print(encoded_image)\n",
    "print()\n",
    "\n",
    "# spikes over the 0.25 quantile will be permitted\n",
    "sparsity = 0.75\n",
    "encoder = SingleEncoder(time=time, dt=dt,sparsity=sparsity)\n",
    "encoded_image = encoder(train_image)\n",
    "print(\"Encoded Datum w/ Sparsity of 0.75:\")\n",
    "print(encoded_image)\n",
    "print()\n",
    "\n",
    "# all spikes will be permitted\n",
    "sparsity = 1\n",
    "encoder = SingleEncoder(time=time, dt=dt,sparsity=sparsity)\n",
    "encoded_image = encoder(train_image)\n",
    "print(\"Encoded Datum w/ Sparsity of 1:\")\n",
    "print(encoded_image)\n",
    "print()"
   ]
  },
  {
   "source": [
    "## 3b. Repeat Encoder\n",
    "### Summary\n",
    "Repeats the same datum vector for `time/dt` timesteps\n"
   ],
   "cell_type": "markdown",
   "metadata": {}
  },
  {
   "cell_type": "code",
   "execution_count": 3,
   "metadata": {},
   "outputs": [
    {
     "output_type": "stream",
     "name": "stdout",
     "text": [
      "Input Datum:\ntensor([[80., 70., 60.],\n        [50., 40., 30.],\n        [20., 10.,  0.]])\n\nEncoded Datum:\ntensor([[[80., 70., 60.],\n         [50., 40., 30.],\n         [20., 10.,  0.]],\n\n        [[80., 70., 60.],\n         [50., 40., 30.],\n         [20., 10.,  0.]],\n\n        [[80., 70., 60.],\n         [50., 40., 30.],\n         [20., 10.,  0.]]])\n\n"
     ]
    }
   ],
   "source": [
    "# time is the total sample duration in ms\n",
    "time = 3\n",
    "\n",
    "# dt is the step size within the sample duration in ms\n",
    "dt = 1.0\n",
    "\n",
    "# input data\n",
    "train_image = torch.FloatTensor([[80,70,60],[50,40,30],[20,10,0]])\n",
    "\n",
    "# print train data\n",
    "print(\"Input Datum:\")\n",
    "print(train_image)\n",
    "print()\n",
    "\n",
    "# create encoder and encode input\n",
    "encoder = RepeatEncoder(time=time, dt=dt)\n",
    "train_image = torch.FloatTensor([[80,70,60],[50,40,30],[20,10,0]])\n",
    "encoded_image = encoder(train_image)\n",
    "print(\"Encoded Datum:\")\n",
    "print(encoded_image)\n",
    "print()"
   ]
  },
  {
   "source": [
    "## 3c. Poisson Encoder\n",
    "\n",
    "### Summary\n",
    "Generates Poisson-distributed spike trains based on input intensity. Inputs must be non-negative, and give the firing rate in Hz. Inter-spike intervals (ISIs) for non-negative data incremented by one to avoid zero intervals while maintaining ISI distributions.\n",
    "\n",
    "### Limitations\n",
    "* Inputs must be non-negative\n",
    "* Inputs must be floating point numbers (otherwise the rate will zero out)\n",
    "\n",
    "### Rate Calculation\n",
    "\n",
    "1. Compute firing rates in seconds as a function of data intensity\n",
    "    * rate = (1 / input_intensity) * (1000 / dt)\n",
    "    * higher intensity -> lower inter-spike interaval\n",
    "    * dt = simulation time step\n",
    "2. Create Poisson distribution and sample inter-spike intervals\n",
    "    * `torch.distributions.Poisson()` used to generate samples\n",
    "    * `time/dt` samples are taken for each input element based on the probability density function (pdf) of a Poisson distribution\n",
    "        * Vales near the rate (lambda) more likely to occur\n",
    "        * The higher the rate, the more varied the data will be\n",
    "    * if any samples produced 0, set them to 1\n",
    "3. Incrementally add all of the samples generated for each input element\n",
    "    * this produces indexes of where to set the spike outputs for each element in the spikes array\n",
    "    * if any samples are greater than `time/dt`, set them to 0 because they are outside of the sample duration\n",
    "4. Create tensor of spikes\n",
    "    * for each of the indexes produced, set the corresponding indexes in the spike tensor to 1\n",
    "    * given an input tensor with dimsnions X x Y, the output tensor has dimensions (time/dt + 1) x X x Y\n",
    "    * remove the first row of spikes because they are all set to 1\n",
    "5. Summary\n",
    "    * samples = time/dt\n",
    "    * rate = (1/intensity)*(1000/dt)\n",
    "    * intervals = torch.distributions.Poisson(rate=rate).sample(sample_shape=samples)\n",
    "    * times = torch.cumsum(intervals,dim=0).long()\n",
    "    * spikes\\[times] = 1\n",
    "\n",
    "### Poisson Distribution\n",
    "\n",
    "![Poisson Probability Function](https://wikimedia.org/api/rest_v1/media/math/render/svg/c22cb4461e100a6db5f815de1f44b1747f160048)\n",
    "\n",
    "![Poisson Probability Graph Function](https://upload.wikimedia.org/wikipedia/commons/thumb/1/16/Poisson_pmf.svg/325px-Poisson_pmf.svg.png)\n",
    "\n",
    "where\n",
    "* k is the number of occurrences\n",
    "* λ is the rate (mean number of occurrences in the interval)\n",
    "\n",
    "(Source [wikipedia.org](https://en.wikipedia.org/wiki/Poisson_distribution))"
   ],
   "cell_type": "markdown",
   "metadata": {}
  },
  {
   "cell_type": "code",
   "execution_count": 4,
   "metadata": {},
   "outputs": [
    {
     "output_type": "stream",
     "name": "stdout",
     "text": [
      "Input Datum:\ntensor([[100.0000,  75.0000,  50.0000],\n        [ 25.0000,  15.0000,  10.0000],\n        [  5.0000,   2.5000,   0.0000]])\n\nRates for Each Element:\n\tRate for 100.0: 10 Hz (Approx. 1 spike per  1 time steps.)\n\tRate for 75.0: 13 Hz (Approx. 1 spike per  1 time steps.)\n\tRate for 50.0: 20 Hz (Approx. 1 spike per  2 time steps.)\n\tRate for 25.0: 40 Hz (Approx. 1 spike per  4 time steps.)\n\tRate for 15.0: 67 Hz (Approx. 1 spike per  7 time steps.)\n\tRate for 10.0: 100 Hz (Approx. 1 spike per  10 time steps.)\n\tRate for 5.0: 200 Hz (Approx. 1 spike per  20 time steps.)\n\tRate for 2.5: 400 Hz (Approx. 1 spike per  40 time steps.)\n\tRate for 0.0: 0 Hz (Approx. 1 spike per  0 time steps.)\n\nEncoded Datum:\ntensor([[[0, 1, 0],\n         [0, 0, 0],\n         [0, 0, 0]],\n\n        [[1, 0, 1],\n         [0, 0, 0],\n         [0, 0, 0]],\n\n        [[0, 0, 0],\n         [0, 0, 0],\n         [0, 0, 0]],\n\n        [[1, 1, 1],\n         [0, 0, 0],\n         [0, 0, 0]],\n\n        [[0, 1, 0],\n         [1, 0, 1],\n         [0, 0, 0]],\n\n        [[1, 1, 0],\n         [0, 0, 0],\n         [0, 0, 0]],\n\n        [[1, 0, 1],\n         [1, 0, 0],\n         [0, 0, 0]],\n\n        [[1, 0, 1],\n         [0, 1, 0],\n         [0, 0, 0]],\n\n        [[1, 0, 0],\n         [1, 0, 0],\n         [0, 0, 0]],\n\n        [[1, 0, 1],\n         [0, 0, 0],\n         [0, 0, 0]]], dtype=torch.uint8)\n\n"
     ]
    }
   ],
   "source": [
    "# time is the total sample duration in ms\n",
    "time = 100\n",
    "\n",
    "# dt is the step size within the sample duration in ms\n",
    "dt = 10\n",
    "\n",
    "# input data\n",
    "train_image = torch.FloatTensor([[100,75,50],[25,15,10],[5,2.5,0]])\n",
    "\n",
    "# print train data\n",
    "print(\"Input Datum:\")\n",
    "print(train_image)\n",
    "print()\n",
    "\n",
    "# rates\n",
    "print(\"Rates for Each Element:\")\n",
    "for element in train_image.flatten():\n",
    "    rate = ((1/element.item())*(1000/dt)) if (element.item() != 0) else 0\n",
    "    print(\"\\tRate for \"+str(element.item())+\":\",round(rate*dt),\"Hz\",\"(Approx. 1 spike per \",round(rate),\"time steps.)\")\n",
    "print()\n",
    "\n",
    "# create encoder and encode input\n",
    "encoder = PoissonEncoder(time=time, dt=dt)\n",
    "encoded_image = encoder(train_image)\n",
    "print(\"Encoded Datum:\")\n",
    "print(encoded_image)\n",
    "print()"
   ]
  },
  {
   "source": [
    "## 3d. Bernoulli Encoder\n",
    "### Summary\n",
    "Generates Bernoulli-distributed spike trains based on input intensity. Inputs must be non-negative. Spikes correspond to successful Bernoulli trials, with success probability equal to (normalized in \\[0, 1]) input value. A maximum probability can be set using the `max_prob` argument\n",
    "\n",
    "### Limitations\n",
    "* Inputs must be non-negative\n",
    "* Inputs must be floating point numbers (otherwise the rate will zero out)\n",
    "\n",
    "### Bernoulli Trial Calculation\n",
    "1. Inputs are normalized based on the max intensity\n",
    "    * The highest intensity will have a probability of 1 and always spike\n",
    "    * An intensity of 0 will have a probability of 0 and never spike\n",
    "2. The spike tensor is generated using `torch.bernoulli()` to generate the random samples\n",
    "    * Highest intensity will always produce 1, lower intensities will generate 1's based on their scale against the highest intensity"
   ],
   "cell_type": "markdown",
   "metadata": {}
  },
  {
   "cell_type": "code",
   "execution_count": 5,
   "metadata": {
    "tags": []
   },
   "outputs": [
    {
     "output_type": "stream",
     "name": "stdout",
     "text": [
      "Input Datum:\n",
      "tensor([[80., 70., 60.],\n",
      "        [50., 40., 30.],\n",
      "        [20., 10.,  0.]])\n",
      "\n",
      "Probabilities of Spiking for Each Element per time step:\n",
      "\tProbability for 80.0 to spike per time step: 100%\n",
      "\tProbability for 70.0 to spike per time step: 88%\n",
      "\tProbability for 60.0 to spike per time step: 75%\n",
      "\tProbability for 50.0 to spike per time step: 62%\n",
      "\tProbability for 40.0 to spike per time step: 50%\n",
      "\tProbability for 30.0 to spike per time step: 38%\n",
      "\tProbability for 20.0 to spike per time step: 25%\n",
      "\tProbability for 10.0 to spike per time step: 12%\n",
      "\tProbability for 0.0 to spike per time step: 0%\n",
      "\n",
      "Encoded Datum:\n",
      "tensor([[[1, 1, 1],\n",
      "         [1, 1, 0],\n",
      "         [1, 0, 0]],\n",
      "\n",
      "        [[1, 1, 1],\n",
      "         [0, 0, 1],\n",
      "         [0, 0, 0]],\n",
      "\n",
      "        [[1, 1, 1],\n",
      "         [1, 0, 0],\n",
      "         [0, 0, 0]],\n",
      "\n",
      "        [[1, 1, 1],\n",
      "         [1, 0, 0],\n",
      "         [0, 1, 0]],\n",
      "\n",
      "        [[1, 0, 1],\n",
      "         [0, 0, 1],\n",
      "         [0, 0, 0]],\n",
      "\n",
      "        [[1, 1, 1],\n",
      "         [1, 1, 1],\n",
      "         [1, 0, 0]],\n",
      "\n",
      "        [[1, 1, 0],\n",
      "         [1, 1, 1],\n",
      "         [0, 1, 0]],\n",
      "\n",
      "        [[1, 0, 1],\n",
      "         [1, 1, 1],\n",
      "         [0, 0, 0]],\n",
      "\n",
      "        [[1, 1, 0],\n",
      "         [0, 1, 1],\n",
      "         [0, 0, 0]],\n",
      "\n",
      "        [[1, 1, 1],\n",
      "         [1, 1, 0],\n",
      "         [0, 0, 0]]], dtype=torch.uint8)\n",
      "\n"
     ]
    }
   ],
   "source": [
    "# time is the total sample duration in ms\n",
    "time = 10\n",
    "\n",
    "# dt is the step size within the sample duration in ms\n",
    "dt = 1.0\n",
    "\n",
    "# input data\n",
    "train_image = torch.FloatTensor([[80,70,60],[50,40,30],[20,10,0]])\n",
    "\n",
    "# print train data\n",
    "print(\"Input Datum:\")\n",
    "print(train_image)\n",
    "print()\n",
    "\n",
    "# probabilities\n",
    "print(\"Probabilities of Spiking for Each Element per time step:\")\n",
    "for element in train_image.flatten():\n",
    "    prob = (element.item() / train_image.max()) * 100\n",
    "    print(\"\\tProbability for \"+str(element.item())+\" to spike per time step:\",str(round(prob.item()))+\"%\")\n",
    "print()\n",
    "\n",
    "# create encoder and encode input\n",
    "encoder = BernoulliEncoder(time=time, dt=dt)\n",
    "encoded_image = encoder(train_image)\n",
    "print(\"Encoded Datum:\")\n",
    "print(encoded_image)\n",
    "print()"
   ]
  },
  {
   "source": [
    "## 3e. Rank Order Encoder\n",
    "### Summary\n",
    "Encodes data via a rank order coding-like representation. One spike per neuron, temporally ordered by decreasing intensity. Inputs must be non-negative.\n",
    "\n",
    "### Rank Calculations\n",
    "1. Normalize data based on the max value\n",
    "2. Invert the data to get the times\n",
    "    * Higher Values correspond to Lower Times\n",
    "3. Divide the data by the max time\n",
    "    * Time values are rounded up to the next value and converted to int to get the ranks\n",
    "4. For each element, if the rank is within `time/dt` time steps, assign a spike to the time step corresponding to the rank\n",
    "\n",
    "### Limitations\n",
    "* Elements need to be widely varied to avoid rank overlap\n",
    "* The same rank can repeat multiple times"
   ],
   "cell_type": "markdown",
   "metadata": {}
  },
  {
   "cell_type": "code",
   "execution_count": 6,
   "metadata": {},
   "outputs": [
    {
     "output_type": "stream",
     "name": "stdout",
     "text": [
      "Input Datum:\n",
      "tensor([100.,  75.,  50.,  25.,   0.])\n",
      "\n",
      "Ranks of Spiking for Each Element per time step:\n",
      "tensor([ 2.5000,  3.3333,  5.0000, 10.0000,  0.0000])\n",
      "\tRank for 100.0 is: 3\n",
      "\tRank for 75.0 is: 4\n",
      "\tRank for 50.0 is: 5\n",
      "\tRank for 25.0 is: 10\n",
      "\tRank for 0.0 is: 0\n",
      "\n",
      "Encoded Datum:\n",
      "tensor([[0, 0, 0, 0, 0],\n",
      "        [0, 0, 0, 0, 0],\n",
      "        [1, 0, 0, 0, 0],\n",
      "        [0, 1, 0, 0, 0],\n",
      "        [0, 0, 1, 0, 0],\n",
      "        [0, 0, 0, 0, 0],\n",
      "        [0, 0, 0, 0, 0],\n",
      "        [0, 0, 0, 0, 0],\n",
      "        [0, 0, 0, 0, 0],\n",
      "        [0, 0, 0, 0, 0]], dtype=torch.uint8)\n",
      "\n",
      "Rank Plot:\n"
     ]
    },
    {
     "output_type": "display_data",
     "data": {
      "text/plain": "<Figure size 432x288 with 1 Axes>",
      "image/svg+xml": "<?xml version=\"1.0\" encoding=\"utf-8\" standalone=\"no\"?>\n<!DOCTYPE svg PUBLIC \"-//W3C//DTD SVG 1.1//EN\"\n  \"http://www.w3.org/Graphics/SVG/1.1/DTD/svg11.dtd\">\n<!-- Created with matplotlib (https://matplotlib.org/) -->\n<svg height=\"248.518125pt\" version=\"1.1\" viewBox=\"0 0 368.925 248.518125\" width=\"368.925pt\" xmlns=\"http://www.w3.org/2000/svg\" xmlns:xlink=\"http://www.w3.org/1999/xlink\">\n <metadata>\n  <rdf:RDF xmlns:cc=\"http://creativecommons.org/ns#\" xmlns:dc=\"http://purl.org/dc/elements/1.1/\" xmlns:rdf=\"http://www.w3.org/1999/02/22-rdf-syntax-ns#\">\n   <cc:Work>\n    <dc:type rdf:resource=\"http://purl.org/dc/dcmitype/StillImage\"/>\n    <dc:date>2020-10-23T17:45:37.273312</dc:date>\n    <dc:format>image/svg+xml</dc:format>\n    <dc:creator>\n     <cc:Agent>\n      <dc:title>Matplotlib v3.3.2, https://matplotlib.org/</dc:title>\n     </cc:Agent>\n    </dc:creator>\n   </cc:Work>\n  </rdf:RDF>\n </metadata>\n <defs>\n  <style type=\"text/css\">*{stroke-linecap:butt;stroke-linejoin:round;}</style>\n </defs>\n <g id=\"figure_1\">\n  <g id=\"patch_1\">\n   <path d=\"M -0 248.518125 \nL 368.925 248.518125 \nL 368.925 0 \nL -0 0 \nz\n\" style=\"fill:none;\"/>\n  </g>\n  <g id=\"axes_1\">\n   <g id=\"patch_2\">\n    <path d=\"M 26.925 224.64 \nL 361.725 224.64 \nL 361.725 7.2 \nL 26.925 7.2 \nz\n\" style=\"fill:#ffffff;\"/>\n   </g>\n   <g id=\"PathCollection_1\">\n    <defs>\n     <path d=\"M 0 3 \nC 0.795609 3 1.55874 2.683901 2.12132 2.12132 \nC 2.683901 1.55874 3 0.795609 3 0 \nC 3 -0.795609 2.683901 -1.55874 2.12132 -2.12132 \nC 1.55874 -2.683901 0.795609 -3 0 -3 \nC -0.795609 -3 -1.55874 -2.683901 -2.12132 -2.12132 \nC -2.683901 -1.55874 -3 -0.795609 -3 0 \nC -3 0.795609 -2.683901 1.55874 -2.12132 2.12132 \nC -1.55874 2.683901 -0.795609 3 0 3 \nz\n\" id=\"mf6d05251c4\" style=\"stroke:#1f77b4;\"/>\n    </defs>\n    <g clip-path=\"url(#pae4f7ab9e1)\">\n     <use style=\"fill:#1f77b4;stroke:#1f77b4;\" x=\"42.143182\" xlink:href=\"#mf6d05251c4\" y=\"17.083636\"/>\n     <use style=\"fill:#1f77b4;stroke:#1f77b4;\" x=\"45.248933\" xlink:href=\"#mf6d05251c4\" y=\"126.901818\"/>\n     <use style=\"fill:#1f77b4;stroke:#1f77b4;\" x=\"48.354685\" xlink:href=\"#mf6d05251c4\" y=\"148.865455\"/>\n     <use style=\"fill:#1f77b4;stroke:#1f77b4;\" x=\"51.460436\" xlink:href=\"#mf6d05251c4\" y=\"170.829091\"/>\n     <use style=\"fill:#1f77b4;stroke:#1f77b4;\" x=\"54.566187\" xlink:href=\"#mf6d05251c4\" y=\"192.792727\"/>\n     <use style=\"fill:#1f77b4;stroke:#1f77b4;\" x=\"57.671939\" xlink:href=\"#mf6d05251c4\" y=\"192.792727\"/>\n     <use style=\"fill:#1f77b4;stroke:#1f77b4;\" x=\"60.77769\" xlink:href=\"#mf6d05251c4\" y=\"192.792727\"/>\n     <use style=\"fill:#1f77b4;stroke:#1f77b4;\" x=\"63.883442\" xlink:href=\"#mf6d05251c4\" y=\"192.792727\"/>\n     <use style=\"fill:#1f77b4;stroke:#1f77b4;\" x=\"66.989193\" xlink:href=\"#mf6d05251c4\" y=\"192.792727\"/>\n     <use style=\"fill:#1f77b4;stroke:#1f77b4;\" x=\"70.094944\" xlink:href=\"#mf6d05251c4\" y=\"214.756364\"/>\n     <use style=\"fill:#1f77b4;stroke:#1f77b4;\" x=\"73.200696\" xlink:href=\"#mf6d05251c4\" y=\"214.756364\"/>\n     <use style=\"fill:#1f77b4;stroke:#1f77b4;\" x=\"76.306447\" xlink:href=\"#mf6d05251c4\" y=\"214.756364\"/>\n     <use style=\"fill:#1f77b4;stroke:#1f77b4;\" x=\"79.412199\" xlink:href=\"#mf6d05251c4\" y=\"214.756364\"/>\n     <use style=\"fill:#1f77b4;stroke:#1f77b4;\" x=\"82.51795\" xlink:href=\"#mf6d05251c4\" y=\"214.756364\"/>\n     <use style=\"fill:#1f77b4;stroke:#1f77b4;\" x=\"85.623701\" xlink:href=\"#mf6d05251c4\" y=\"214.756364\"/>\n     <use style=\"fill:#1f77b4;stroke:#1f77b4;\" x=\"88.729453\" xlink:href=\"#mf6d05251c4\" y=\"214.756364\"/>\n     <use style=\"fill:#1f77b4;stroke:#1f77b4;\" x=\"91.835204\" xlink:href=\"#mf6d05251c4\" y=\"214.756364\"/>\n     <use style=\"fill:#1f77b4;stroke:#1f77b4;\" x=\"94.940955\" xlink:href=\"#mf6d05251c4\" y=\"214.756364\"/>\n     <use style=\"fill:#1f77b4;stroke:#1f77b4;\" x=\"98.046707\" xlink:href=\"#mf6d05251c4\" y=\"214.756364\"/>\n     <use style=\"fill:#1f77b4;stroke:#1f77b4;\" x=\"101.152458\" xlink:href=\"#mf6d05251c4\" y=\"214.756364\"/>\n     <use style=\"fill:#1f77b4;stroke:#1f77b4;\" x=\"104.25821\" xlink:href=\"#mf6d05251c4\" y=\"214.756364\"/>\n     <use style=\"fill:#1f77b4;stroke:#1f77b4;\" x=\"107.363961\" xlink:href=\"#mf6d05251c4\" y=\"214.756364\"/>\n     <use style=\"fill:#1f77b4;stroke:#1f77b4;\" x=\"110.469712\" xlink:href=\"#mf6d05251c4\" y=\"214.756364\"/>\n     <use style=\"fill:#1f77b4;stroke:#1f77b4;\" x=\"113.575464\" xlink:href=\"#mf6d05251c4\" y=\"214.756364\"/>\n     <use style=\"fill:#1f77b4;stroke:#1f77b4;\" x=\"116.681215\" xlink:href=\"#mf6d05251c4\" y=\"214.756364\"/>\n     <use style=\"fill:#1f77b4;stroke:#1f77b4;\" x=\"119.786967\" xlink:href=\"#mf6d05251c4\" y=\"214.756364\"/>\n     <use style=\"fill:#1f77b4;stroke:#1f77b4;\" x=\"122.892718\" xlink:href=\"#mf6d05251c4\" y=\"214.756364\"/>\n     <use style=\"fill:#1f77b4;stroke:#1f77b4;\" x=\"125.998469\" xlink:href=\"#mf6d05251c4\" y=\"214.756364\"/>\n     <use style=\"fill:#1f77b4;stroke:#1f77b4;\" x=\"129.104221\" xlink:href=\"#mf6d05251c4\" y=\"214.756364\"/>\n     <use style=\"fill:#1f77b4;stroke:#1f77b4;\" x=\"132.209972\" xlink:href=\"#mf6d05251c4\" y=\"214.756364\"/>\n     <use style=\"fill:#1f77b4;stroke:#1f77b4;\" x=\"135.315724\" xlink:href=\"#mf6d05251c4\" y=\"214.756364\"/>\n     <use style=\"fill:#1f77b4;stroke:#1f77b4;\" x=\"138.421475\" xlink:href=\"#mf6d05251c4\" y=\"214.756364\"/>\n     <use style=\"fill:#1f77b4;stroke:#1f77b4;\" x=\"141.527226\" xlink:href=\"#mf6d05251c4\" y=\"214.756364\"/>\n     <use style=\"fill:#1f77b4;stroke:#1f77b4;\" x=\"144.632978\" xlink:href=\"#mf6d05251c4\" y=\"214.756364\"/>\n     <use style=\"fill:#1f77b4;stroke:#1f77b4;\" x=\"147.738729\" xlink:href=\"#mf6d05251c4\" y=\"214.756364\"/>\n     <use style=\"fill:#1f77b4;stroke:#1f77b4;\" x=\"150.844481\" xlink:href=\"#mf6d05251c4\" y=\"214.756364\"/>\n     <use style=\"fill:#1f77b4;stroke:#1f77b4;\" x=\"153.950232\" xlink:href=\"#mf6d05251c4\" y=\"214.756364\"/>\n     <use style=\"fill:#1f77b4;stroke:#1f77b4;\" x=\"157.055983\" xlink:href=\"#mf6d05251c4\" y=\"214.756364\"/>\n     <use style=\"fill:#1f77b4;stroke:#1f77b4;\" x=\"160.161735\" xlink:href=\"#mf6d05251c4\" y=\"214.756364\"/>\n     <use style=\"fill:#1f77b4;stroke:#1f77b4;\" x=\"163.267486\" xlink:href=\"#mf6d05251c4\" y=\"214.756364\"/>\n     <use style=\"fill:#1f77b4;stroke:#1f77b4;\" x=\"166.373237\" xlink:href=\"#mf6d05251c4\" y=\"214.756364\"/>\n     <use style=\"fill:#1f77b4;stroke:#1f77b4;\" x=\"169.478989\" xlink:href=\"#mf6d05251c4\" y=\"214.756364\"/>\n     <use style=\"fill:#1f77b4;stroke:#1f77b4;\" x=\"172.58474\" xlink:href=\"#mf6d05251c4\" y=\"214.756364\"/>\n     <use style=\"fill:#1f77b4;stroke:#1f77b4;\" x=\"175.690492\" xlink:href=\"#mf6d05251c4\" y=\"214.756364\"/>\n     <use style=\"fill:#1f77b4;stroke:#1f77b4;\" x=\"178.796243\" xlink:href=\"#mf6d05251c4\" y=\"214.756364\"/>\n     <use style=\"fill:#1f77b4;stroke:#1f77b4;\" x=\"181.901994\" xlink:href=\"#mf6d05251c4\" y=\"214.756364\"/>\n     <use style=\"fill:#1f77b4;stroke:#1f77b4;\" x=\"185.007746\" xlink:href=\"#mf6d05251c4\" y=\"214.756364\"/>\n     <use style=\"fill:#1f77b4;stroke:#1f77b4;\" x=\"188.113497\" xlink:href=\"#mf6d05251c4\" y=\"214.756364\"/>\n     <use style=\"fill:#1f77b4;stroke:#1f77b4;\" x=\"191.219249\" xlink:href=\"#mf6d05251c4\" y=\"214.756364\"/>\n     <use style=\"fill:#1f77b4;stroke:#1f77b4;\" x=\"194.325\" xlink:href=\"#mf6d05251c4\" y=\"214.756364\"/>\n     <use style=\"fill:#1f77b4;stroke:#1f77b4;\" x=\"197.430751\" xlink:href=\"#mf6d05251c4\" y=\"214.756364\"/>\n     <use style=\"fill:#1f77b4;stroke:#1f77b4;\" x=\"200.536503\" xlink:href=\"#mf6d05251c4\" y=\"214.756364\"/>\n     <use style=\"fill:#1f77b4;stroke:#1f77b4;\" x=\"203.642254\" xlink:href=\"#mf6d05251c4\" y=\"214.756364\"/>\n     <use style=\"fill:#1f77b4;stroke:#1f77b4;\" x=\"206.748006\" xlink:href=\"#mf6d05251c4\" y=\"214.756364\"/>\n     <use style=\"fill:#1f77b4;stroke:#1f77b4;\" x=\"209.853757\" xlink:href=\"#mf6d05251c4\" y=\"214.756364\"/>\n     <use style=\"fill:#1f77b4;stroke:#1f77b4;\" x=\"212.959508\" xlink:href=\"#mf6d05251c4\" y=\"214.756364\"/>\n     <use style=\"fill:#1f77b4;stroke:#1f77b4;\" x=\"216.06526\" xlink:href=\"#mf6d05251c4\" y=\"214.756364\"/>\n     <use style=\"fill:#1f77b4;stroke:#1f77b4;\" x=\"219.171011\" xlink:href=\"#mf6d05251c4\" y=\"214.756364\"/>\n     <use style=\"fill:#1f77b4;stroke:#1f77b4;\" x=\"222.276763\" xlink:href=\"#mf6d05251c4\" y=\"214.756364\"/>\n     <use style=\"fill:#1f77b4;stroke:#1f77b4;\" x=\"225.382514\" xlink:href=\"#mf6d05251c4\" y=\"214.756364\"/>\n     <use style=\"fill:#1f77b4;stroke:#1f77b4;\" x=\"228.488265\" xlink:href=\"#mf6d05251c4\" y=\"214.756364\"/>\n     <use style=\"fill:#1f77b4;stroke:#1f77b4;\" x=\"231.594017\" xlink:href=\"#mf6d05251c4\" y=\"214.756364\"/>\n     <use style=\"fill:#1f77b4;stroke:#1f77b4;\" x=\"234.699768\" xlink:href=\"#mf6d05251c4\" y=\"214.756364\"/>\n     <use style=\"fill:#1f77b4;stroke:#1f77b4;\" x=\"237.805519\" xlink:href=\"#mf6d05251c4\" y=\"214.756364\"/>\n     <use style=\"fill:#1f77b4;stroke:#1f77b4;\" x=\"240.911271\" xlink:href=\"#mf6d05251c4\" y=\"214.756364\"/>\n     <use style=\"fill:#1f77b4;stroke:#1f77b4;\" x=\"244.017022\" xlink:href=\"#mf6d05251c4\" y=\"214.756364\"/>\n     <use style=\"fill:#1f77b4;stroke:#1f77b4;\" x=\"247.122774\" xlink:href=\"#mf6d05251c4\" y=\"214.756364\"/>\n     <use style=\"fill:#1f77b4;stroke:#1f77b4;\" x=\"250.228525\" xlink:href=\"#mf6d05251c4\" y=\"214.756364\"/>\n     <use style=\"fill:#1f77b4;stroke:#1f77b4;\" x=\"253.334276\" xlink:href=\"#mf6d05251c4\" y=\"214.756364\"/>\n     <use style=\"fill:#1f77b4;stroke:#1f77b4;\" x=\"256.440028\" xlink:href=\"#mf6d05251c4\" y=\"214.756364\"/>\n     <use style=\"fill:#1f77b4;stroke:#1f77b4;\" x=\"259.545779\" xlink:href=\"#mf6d05251c4\" y=\"214.756364\"/>\n     <use style=\"fill:#1f77b4;stroke:#1f77b4;\" x=\"262.651531\" xlink:href=\"#mf6d05251c4\" y=\"214.756364\"/>\n     <use style=\"fill:#1f77b4;stroke:#1f77b4;\" x=\"265.757282\" xlink:href=\"#mf6d05251c4\" y=\"214.756364\"/>\n     <use style=\"fill:#1f77b4;stroke:#1f77b4;\" x=\"268.863033\" xlink:href=\"#mf6d05251c4\" y=\"214.756364\"/>\n     <use style=\"fill:#1f77b4;stroke:#1f77b4;\" x=\"271.968785\" xlink:href=\"#mf6d05251c4\" y=\"214.756364\"/>\n     <use style=\"fill:#1f77b4;stroke:#1f77b4;\" x=\"275.074536\" xlink:href=\"#mf6d05251c4\" y=\"214.756364\"/>\n     <use style=\"fill:#1f77b4;stroke:#1f77b4;\" x=\"278.180288\" xlink:href=\"#mf6d05251c4\" y=\"214.756364\"/>\n     <use style=\"fill:#1f77b4;stroke:#1f77b4;\" x=\"281.286039\" xlink:href=\"#mf6d05251c4\" y=\"214.756364\"/>\n     <use style=\"fill:#1f77b4;stroke:#1f77b4;\" x=\"284.39179\" xlink:href=\"#mf6d05251c4\" y=\"214.756364\"/>\n     <use style=\"fill:#1f77b4;stroke:#1f77b4;\" x=\"287.497542\" xlink:href=\"#mf6d05251c4\" y=\"214.756364\"/>\n     <use style=\"fill:#1f77b4;stroke:#1f77b4;\" x=\"290.603293\" xlink:href=\"#mf6d05251c4\" y=\"214.756364\"/>\n     <use style=\"fill:#1f77b4;stroke:#1f77b4;\" x=\"293.709045\" xlink:href=\"#mf6d05251c4\" y=\"214.756364\"/>\n     <use style=\"fill:#1f77b4;stroke:#1f77b4;\" x=\"296.814796\" xlink:href=\"#mf6d05251c4\" y=\"214.756364\"/>\n     <use style=\"fill:#1f77b4;stroke:#1f77b4;\" x=\"299.920547\" xlink:href=\"#mf6d05251c4\" y=\"214.756364\"/>\n     <use style=\"fill:#1f77b4;stroke:#1f77b4;\" x=\"303.026299\" xlink:href=\"#mf6d05251c4\" y=\"214.756364\"/>\n     <use style=\"fill:#1f77b4;stroke:#1f77b4;\" x=\"306.13205\" xlink:href=\"#mf6d05251c4\" y=\"214.756364\"/>\n     <use style=\"fill:#1f77b4;stroke:#1f77b4;\" x=\"309.237801\" xlink:href=\"#mf6d05251c4\" y=\"214.756364\"/>\n     <use style=\"fill:#1f77b4;stroke:#1f77b4;\" x=\"312.343553\" xlink:href=\"#mf6d05251c4\" y=\"214.756364\"/>\n     <use style=\"fill:#1f77b4;stroke:#1f77b4;\" x=\"315.449304\" xlink:href=\"#mf6d05251c4\" y=\"214.756364\"/>\n     <use style=\"fill:#1f77b4;stroke:#1f77b4;\" x=\"318.555056\" xlink:href=\"#mf6d05251c4\" y=\"214.756364\"/>\n     <use style=\"fill:#1f77b4;stroke:#1f77b4;\" x=\"321.660807\" xlink:href=\"#mf6d05251c4\" y=\"214.756364\"/>\n     <use style=\"fill:#1f77b4;stroke:#1f77b4;\" x=\"324.766558\" xlink:href=\"#mf6d05251c4\" y=\"214.756364\"/>\n     <use style=\"fill:#1f77b4;stroke:#1f77b4;\" x=\"327.87231\" xlink:href=\"#mf6d05251c4\" y=\"214.756364\"/>\n     <use style=\"fill:#1f77b4;stroke:#1f77b4;\" x=\"330.978061\" xlink:href=\"#mf6d05251c4\" y=\"214.756364\"/>\n     <use style=\"fill:#1f77b4;stroke:#1f77b4;\" x=\"334.083813\" xlink:href=\"#mf6d05251c4\" y=\"214.756364\"/>\n     <use style=\"fill:#1f77b4;stroke:#1f77b4;\" x=\"337.189564\" xlink:href=\"#mf6d05251c4\" y=\"214.756364\"/>\n     <use style=\"fill:#1f77b4;stroke:#1f77b4;\" x=\"340.295315\" xlink:href=\"#mf6d05251c4\" y=\"214.756364\"/>\n     <use style=\"fill:#1f77b4;stroke:#1f77b4;\" x=\"343.401067\" xlink:href=\"#mf6d05251c4\" y=\"214.756364\"/>\n     <use style=\"fill:#1f77b4;stroke:#1f77b4;\" x=\"346.506818\" xlink:href=\"#mf6d05251c4\" y=\"214.756364\"/>\n    </g>\n   </g>\n   <g id=\"matplotlib.axis_1\">\n    <g id=\"xtick_1\">\n     <g id=\"line2d_1\">\n      <defs>\n       <path d=\"M 0 0 \nL 0 3.5 \n\" id=\"m012cf0a3e3\" style=\"stroke:#000000;stroke-width:0.8;\"/>\n      </defs>\n      <g>\n       <use style=\"stroke:#000000;stroke-width:0.8;\" x=\"39.03743\" xlink:href=\"#m012cf0a3e3\" y=\"224.64\"/>\n      </g>\n     </g>\n     <g id=\"text_1\">\n      <!-- 0 -->\n      <g transform=\"translate(35.85618 239.238437)scale(0.1 -0.1)\">\n       <defs>\n        <path d=\"M 31.78125 66.40625 \nQ 24.171875 66.40625 20.328125 58.90625 \nQ 16.5 51.421875 16.5 36.375 \nQ 16.5 21.390625 20.328125 13.890625 \nQ 24.171875 6.390625 31.78125 6.390625 \nQ 39.453125 6.390625 43.28125 13.890625 \nQ 47.125 21.390625 47.125 36.375 \nQ 47.125 51.421875 43.28125 58.90625 \nQ 39.453125 66.40625 31.78125 66.40625 \nz\nM 31.78125 74.21875 \nQ 44.046875 74.21875 50.515625 64.515625 \nQ 56.984375 54.828125 56.984375 36.375 \nQ 56.984375 17.96875 50.515625 8.265625 \nQ 44.046875 -1.421875 31.78125 -1.421875 \nQ 19.53125 -1.421875 13.0625 8.265625 \nQ 6.59375 17.96875 6.59375 36.375 \nQ 6.59375 54.828125 13.0625 64.515625 \nQ 19.53125 74.21875 31.78125 74.21875 \nz\n\" id=\"DejaVuSans-48\"/>\n       </defs>\n       <use xlink:href=\"#DejaVuSans-48\"/>\n      </g>\n     </g>\n    </g>\n    <g id=\"xtick_2\">\n     <g id=\"line2d_2\">\n      <g>\n       <use style=\"stroke:#000000;stroke-width:0.8;\" x=\"101.152458\" xlink:href=\"#m012cf0a3e3\" y=\"224.64\"/>\n      </g>\n     </g>\n     <g id=\"text_2\">\n      <!-- 20 -->\n      <g transform=\"translate(94.789958 239.238437)scale(0.1 -0.1)\">\n       <defs>\n        <path d=\"M 19.1875 8.296875 \nL 53.609375 8.296875 \nL 53.609375 0 \nL 7.328125 0 \nL 7.328125 8.296875 \nQ 12.9375 14.109375 22.625 23.890625 \nQ 32.328125 33.6875 34.8125 36.53125 \nQ 39.546875 41.84375 41.421875 45.53125 \nQ 43.3125 49.21875 43.3125 52.78125 \nQ 43.3125 58.59375 39.234375 62.25 \nQ 35.15625 65.921875 28.609375 65.921875 \nQ 23.96875 65.921875 18.8125 64.3125 \nQ 13.671875 62.703125 7.8125 59.421875 \nL 7.8125 69.390625 \nQ 13.765625 71.78125 18.9375 73 \nQ 24.125 74.21875 28.421875 74.21875 \nQ 39.75 74.21875 46.484375 68.546875 \nQ 53.21875 62.890625 53.21875 53.421875 \nQ 53.21875 48.921875 51.53125 44.890625 \nQ 49.859375 40.875 45.40625 35.40625 \nQ 44.1875 33.984375 37.640625 27.21875 \nQ 31.109375 20.453125 19.1875 8.296875 \nz\n\" id=\"DejaVuSans-50\"/>\n       </defs>\n       <use xlink:href=\"#DejaVuSans-50\"/>\n       <use x=\"63.623047\" xlink:href=\"#DejaVuSans-48\"/>\n      </g>\n     </g>\n    </g>\n    <g id=\"xtick_3\">\n     <g id=\"line2d_3\">\n      <g>\n       <use style=\"stroke:#000000;stroke-width:0.8;\" x=\"163.267486\" xlink:href=\"#m012cf0a3e3\" y=\"224.64\"/>\n      </g>\n     </g>\n     <g id=\"text_3\">\n      <!-- 40 -->\n      <g transform=\"translate(156.904986 239.238437)scale(0.1 -0.1)\">\n       <defs>\n        <path d=\"M 37.796875 64.3125 \nL 12.890625 25.390625 \nL 37.796875 25.390625 \nz\nM 35.203125 72.90625 \nL 47.609375 72.90625 \nL 47.609375 25.390625 \nL 58.015625 25.390625 \nL 58.015625 17.1875 \nL 47.609375 17.1875 \nL 47.609375 0 \nL 37.796875 0 \nL 37.796875 17.1875 \nL 4.890625 17.1875 \nL 4.890625 26.703125 \nz\n\" id=\"DejaVuSans-52\"/>\n       </defs>\n       <use xlink:href=\"#DejaVuSans-52\"/>\n       <use x=\"63.623047\" xlink:href=\"#DejaVuSans-48\"/>\n      </g>\n     </g>\n    </g>\n    <g id=\"xtick_4\">\n     <g id=\"line2d_4\">\n      <g>\n       <use style=\"stroke:#000000;stroke-width:0.8;\" x=\"225.382514\" xlink:href=\"#m012cf0a3e3\" y=\"224.64\"/>\n      </g>\n     </g>\n     <g id=\"text_4\">\n      <!-- 60 -->\n      <g transform=\"translate(219.020014 239.238437)scale(0.1 -0.1)\">\n       <defs>\n        <path d=\"M 33.015625 40.375 \nQ 26.375 40.375 22.484375 35.828125 \nQ 18.609375 31.296875 18.609375 23.390625 \nQ 18.609375 15.53125 22.484375 10.953125 \nQ 26.375 6.390625 33.015625 6.390625 \nQ 39.65625 6.390625 43.53125 10.953125 \nQ 47.40625 15.53125 47.40625 23.390625 \nQ 47.40625 31.296875 43.53125 35.828125 \nQ 39.65625 40.375 33.015625 40.375 \nz\nM 52.59375 71.296875 \nL 52.59375 62.3125 \nQ 48.875 64.0625 45.09375 64.984375 \nQ 41.3125 65.921875 37.59375 65.921875 \nQ 27.828125 65.921875 22.671875 59.328125 \nQ 17.53125 52.734375 16.796875 39.40625 \nQ 19.671875 43.65625 24.015625 45.921875 \nQ 28.375 48.1875 33.59375 48.1875 \nQ 44.578125 48.1875 50.953125 41.515625 \nQ 57.328125 34.859375 57.328125 23.390625 \nQ 57.328125 12.15625 50.6875 5.359375 \nQ 44.046875 -1.421875 33.015625 -1.421875 \nQ 20.359375 -1.421875 13.671875 8.265625 \nQ 6.984375 17.96875 6.984375 36.375 \nQ 6.984375 53.65625 15.1875 63.9375 \nQ 23.390625 74.21875 37.203125 74.21875 \nQ 40.921875 74.21875 44.703125 73.484375 \nQ 48.484375 72.75 52.59375 71.296875 \nz\n\" id=\"DejaVuSans-54\"/>\n       </defs>\n       <use xlink:href=\"#DejaVuSans-54\"/>\n       <use x=\"63.623047\" xlink:href=\"#DejaVuSans-48\"/>\n      </g>\n     </g>\n    </g>\n    <g id=\"xtick_5\">\n     <g id=\"line2d_5\">\n      <g>\n       <use style=\"stroke:#000000;stroke-width:0.8;\" x=\"287.497542\" xlink:href=\"#m012cf0a3e3\" y=\"224.64\"/>\n      </g>\n     </g>\n     <g id=\"text_5\">\n      <!-- 80 -->\n      <g transform=\"translate(281.135042 239.238437)scale(0.1 -0.1)\">\n       <defs>\n        <path d=\"M 31.78125 34.625 \nQ 24.75 34.625 20.71875 30.859375 \nQ 16.703125 27.09375 16.703125 20.515625 \nQ 16.703125 13.921875 20.71875 10.15625 \nQ 24.75 6.390625 31.78125 6.390625 \nQ 38.8125 6.390625 42.859375 10.171875 \nQ 46.921875 13.96875 46.921875 20.515625 \nQ 46.921875 27.09375 42.890625 30.859375 \nQ 38.875 34.625 31.78125 34.625 \nz\nM 21.921875 38.8125 \nQ 15.578125 40.375 12.03125 44.71875 \nQ 8.5 49.078125 8.5 55.328125 \nQ 8.5 64.0625 14.71875 69.140625 \nQ 20.953125 74.21875 31.78125 74.21875 \nQ 42.671875 74.21875 48.875 69.140625 \nQ 55.078125 64.0625 55.078125 55.328125 \nQ 55.078125 49.078125 51.53125 44.71875 \nQ 48 40.375 41.703125 38.8125 \nQ 48.828125 37.15625 52.796875 32.3125 \nQ 56.78125 27.484375 56.78125 20.515625 \nQ 56.78125 9.90625 50.3125 4.234375 \nQ 43.84375 -1.421875 31.78125 -1.421875 \nQ 19.734375 -1.421875 13.25 4.234375 \nQ 6.78125 9.90625 6.78125 20.515625 \nQ 6.78125 27.484375 10.78125 32.3125 \nQ 14.796875 37.15625 21.921875 38.8125 \nz\nM 18.3125 54.390625 \nQ 18.3125 48.734375 21.84375 45.5625 \nQ 25.390625 42.390625 31.78125 42.390625 \nQ 38.140625 42.390625 41.71875 45.5625 \nQ 45.3125 48.734375 45.3125 54.390625 \nQ 45.3125 60.0625 41.71875 63.234375 \nQ 38.140625 66.40625 31.78125 66.40625 \nQ 25.390625 66.40625 21.84375 63.234375 \nQ 18.3125 60.0625 18.3125 54.390625 \nz\n\" id=\"DejaVuSans-56\"/>\n       </defs>\n       <use xlink:href=\"#DejaVuSans-56\"/>\n       <use x=\"63.623047\" xlink:href=\"#DejaVuSans-48\"/>\n      </g>\n     </g>\n    </g>\n    <g id=\"xtick_6\">\n     <g id=\"line2d_6\">\n      <g>\n       <use style=\"stroke:#000000;stroke-width:0.8;\" x=\"349.61257\" xlink:href=\"#m012cf0a3e3\" y=\"224.64\"/>\n      </g>\n     </g>\n     <g id=\"text_6\">\n      <!-- 100 -->\n      <g transform=\"translate(340.06882 239.238437)scale(0.1 -0.1)\">\n       <defs>\n        <path d=\"M 12.40625 8.296875 \nL 28.515625 8.296875 \nL 28.515625 63.921875 \nL 10.984375 60.40625 \nL 10.984375 69.390625 \nL 28.421875 72.90625 \nL 38.28125 72.90625 \nL 38.28125 8.296875 \nL 54.390625 8.296875 \nL 54.390625 0 \nL 12.40625 0 \nz\n\" id=\"DejaVuSans-49\"/>\n       </defs>\n       <use xlink:href=\"#DejaVuSans-49\"/>\n       <use x=\"63.623047\" xlink:href=\"#DejaVuSans-48\"/>\n       <use x=\"127.246094\" xlink:href=\"#DejaVuSans-48\"/>\n      </g>\n     </g>\n    </g>\n   </g>\n   <g id=\"matplotlib.axis_2\">\n    <g id=\"ytick_1\">\n     <g id=\"line2d_7\">\n      <defs>\n       <path d=\"M 0 0 \nL -3.5 0 \n\" id=\"mbd8338e309\" style=\"stroke:#000000;stroke-width:0.8;\"/>\n      </defs>\n      <g>\n       <use style=\"stroke:#000000;stroke-width:0.8;\" x=\"26.925\" xlink:href=\"#mbd8338e309\" y=\"192.792727\"/>\n      </g>\n     </g>\n     <g id=\"text_7\">\n      <!-- 2 -->\n      <g transform=\"translate(13.5625 196.591946)scale(0.1 -0.1)\">\n       <use xlink:href=\"#DejaVuSans-50\"/>\n      </g>\n     </g>\n    </g>\n    <g id=\"ytick_2\">\n     <g id=\"line2d_8\">\n      <g>\n       <use style=\"stroke:#000000;stroke-width:0.8;\" x=\"26.925\" xlink:href=\"#mbd8338e309\" y=\"148.865455\"/>\n      </g>\n     </g>\n     <g id=\"text_8\">\n      <!-- 4 -->\n      <g transform=\"translate(13.5625 152.664673)scale(0.1 -0.1)\">\n       <use xlink:href=\"#DejaVuSans-52\"/>\n      </g>\n     </g>\n    </g>\n    <g id=\"ytick_3\">\n     <g id=\"line2d_9\">\n      <g>\n       <use style=\"stroke:#000000;stroke-width:0.8;\" x=\"26.925\" xlink:href=\"#mbd8338e309\" y=\"104.938182\"/>\n      </g>\n     </g>\n     <g id=\"text_9\">\n      <!-- 6 -->\n      <g transform=\"translate(13.5625 108.737401)scale(0.1 -0.1)\">\n       <use xlink:href=\"#DejaVuSans-54\"/>\n      </g>\n     </g>\n    </g>\n    <g id=\"ytick_4\">\n     <g id=\"line2d_10\">\n      <g>\n       <use style=\"stroke:#000000;stroke-width:0.8;\" x=\"26.925\" xlink:href=\"#mbd8338e309\" y=\"61.010909\"/>\n      </g>\n     </g>\n     <g id=\"text_10\">\n      <!-- 8 -->\n      <g transform=\"translate(13.5625 64.810128)scale(0.1 -0.1)\">\n       <use xlink:href=\"#DejaVuSans-56\"/>\n      </g>\n     </g>\n    </g>\n    <g id=\"ytick_5\">\n     <g id=\"line2d_11\">\n      <g>\n       <use style=\"stroke:#000000;stroke-width:0.8;\" x=\"26.925\" xlink:href=\"#mbd8338e309\" y=\"17.083636\"/>\n      </g>\n     </g>\n     <g id=\"text_11\">\n      <!-- 10 -->\n      <g transform=\"translate(7.2 20.882855)scale(0.1 -0.1)\">\n       <use xlink:href=\"#DejaVuSans-49\"/>\n       <use x=\"63.623047\" xlink:href=\"#DejaVuSans-48\"/>\n      </g>\n     </g>\n    </g>\n   </g>\n   <g id=\"patch_3\">\n    <path d=\"M 26.925 224.64 \nL 26.925 7.2 \n\" style=\"fill:none;stroke:#000000;stroke-linecap:square;stroke-linejoin:miter;stroke-width:0.8;\"/>\n   </g>\n   <g id=\"patch_4\">\n    <path d=\"M 361.725 224.64 \nL 361.725 7.2 \n\" style=\"fill:none;stroke:#000000;stroke-linecap:square;stroke-linejoin:miter;stroke-width:0.8;\"/>\n   </g>\n   <g id=\"patch_5\">\n    <path d=\"M 26.925 224.64 \nL 361.725 224.64 \n\" style=\"fill:none;stroke:#000000;stroke-linecap:square;stroke-linejoin:miter;stroke-width:0.8;\"/>\n   </g>\n   <g id=\"patch_6\">\n    <path d=\"M 26.925 7.2 \nL 361.725 7.2 \n\" style=\"fill:none;stroke:#000000;stroke-linecap:square;stroke-linejoin:miter;stroke-width:0.8;\"/>\n   </g>\n  </g>\n </g>\n <defs>\n  <clipPath id=\"pae4f7ab9e1\">\n   <rect height=\"217.44\" width=\"334.8\" x=\"26.925\" y=\"7.2\"/>\n  </clipPath>\n </defs>\n</svg>\n",
      "image/png": "[encoded data removed]"
     },
     "metadata": {
      "needs_background": "light"
     }
    }
   ],
   "source": [
    "# time is the total sample duration in ms\n",
    "time = 10\n",
    "\n",
    "# dt is the step size within the sample duration in ms\n",
    "dt = 1.0\n",
    "\n",
    "# input data\n",
    "# train_image = torch.FloatTensor([[80,70,60],[50,40,30],[20,10,0]])\n",
    "# train_image = torch.FloatTensor([[10,9,8],[7,6,5],[4,3,2]])\n",
    "# train_image = torch.FloatTensor([[10,5,3.333],[2.5,2,1.63],[1.5,1.2,0.9]])\n",
    "train_image = torch.FloatTensor([100,75,50,25,0])\n",
    "\n",
    "# print train data\n",
    "print(\"Input Datum:\")\n",
    "print(train_image)\n",
    "print()\n",
    "\n",
    "# ranks\n",
    "print(\"Ranks of Spiking for Each Element per time step:\")\n",
    "datum = train_image\n",
    "datum = (datum / datum.max()).flatten()\n",
    "times = torch.zeros(datum.numel())\n",
    "times[datum != 0] = 1 / datum[datum != 0]\n",
    "times *= time / times.max()\n",
    "print(times)\n",
    "times = torch.ceil(times).long()\n",
    "for idx in range(len(train_image.flatten().tolist())):\n",
    "    elements = train_image.flatten().tolist()\n",
    "    print(\"\\tRank for \"+str(round(elements[idx],2))+\" is:\",str(times[idx].item()))\n",
    "print()\n",
    "\n",
    "# create encoder and encode input\n",
    "encoder = RankOrderEncoder(time=time, dt=dt)\n",
    "encoded_image = encoder(train_image)\n",
    "print(\"Encoded Datum:\")\n",
    "print(encoded_image)\n",
    "print()\n",
    "\n",
    "print(\"Rank Plot:\")\n",
    "#x = torch.arange(1,train_image.max(),1).float()\n",
    "x = torch.arange(1,100,1).float()\n",
    "#print(train_image)\n",
    "#print(train_image.max())\n",
    "x_times = (1/(x / x.max()))\n",
    "x_times *= (time/dt) / x_times.max()\n",
    "ranks = torch.ceil(x_times).long()\n",
    "plt.scatter(x,ranks)\n",
    "plt.show()"
   ]
  },
  {
   "source": [
    "## Future Modifications\n",
    "* Change the rank order coding add an option for each element having their own rank"
   ],
   "cell_type": "markdown",
   "metadata": {}
  }
 ]
}